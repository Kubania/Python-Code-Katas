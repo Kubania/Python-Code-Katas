{
 "nbformat": 4,
 "nbformat_minor": 2,
 "metadata": {
  "language_info": {
   "name": "python",
   "codemirror_mode": {
    "name": "ipython",
    "version": 3
   },
   "version": "3.6.9-final"
  },
  "orig_nbformat": 2,
  "file_extension": ".py",
  "mimetype": "text/x-python",
  "name": "python",
  "npconvert_exporter": "python",
  "pygments_lexer": "ipython3",
  "version": 3,
  "kernelspec": {
   "name": "python36964bit1c076be8cc0a478ca4586caec691ec36",
   "display_name": "Python 3.6.9 64-bit"
  }
 },
 "cells": [
  {
   "cell_type": "code",
   "execution_count": 10,
   "metadata": {},
   "outputs": [
    {
     "output_type": "execute_result",
     "data": {
      "text/plain": "(' ', True)"
     },
     "metadata": {},
     "execution_count": 10
    }
   ],
   "source": [
    "# Determine if a string is an isogram, with similar string\n",
    "def is_isogram(string):\n",
    "    if type(string)!=str:\n",
    "        raise TypeError(\"Argument should be a String\") \n",
    "    elif string == \" \":\n",
    "        return(string,True)\n",
    "    else:\n",
    "        string =string.lower()\n",
    "        for char in string:\n",
    "          if string.count(char) >1:\n",
    "             return (string ,False)\n",
    "          else:\n",
    "             return(string ,True) \n",
    "\n",
    "is_isogram(' ')     "
   ]
  },
  {
   "cell_type": "code",
   "execution_count": 25,
   "metadata": {},
   "outputs": [
    {
     "output_type": "execute_result",
     "data": {
      "text/plain": "5"
     },
     "metadata": {},
     "execution_count": 25
    }
   ],
   "source": [
    "# Return the sum of the two smallest elements in a list\n",
    "numbers = [3,56,89,2,10]\n",
    "\n",
    "def sum_two_smallest_numbers(numbers):\n",
    "    num = []\n",
    "    for x in numbers:\n",
    "       num.append(x)\n",
    "    new = num.sort()\n",
    "    small = num[:2]\n",
    "    summation = sum(small) \n",
    "    return summation\n",
    "\n",
    "sum_two_smallest_numbers(numbers)"
   ]
  },
  {
   "cell_type": "code",
   "execution_count": 40,
   "metadata": {},
   "outputs": [
    {
     "output_type": "stream",
     "name": "stdout",
     "text": "811181\n"
    }
   ],
   "source": [
    "# Find the square of digit\n",
    "number = 9119\n",
    "def square_digits(num):\n",
    "    num = [int(i) for i in str(num)]\n",
    "    square = []\n",
    "    for x in num:\n",
    "        square.append(x**2)\n",
    "    results = ''\n",
    "    for i in square:\n",
    "        results += str(i)\n",
    "    print(int(results))\n",
    "\n",
    "square_digits(number)\n",
    " "
   ]
  },
  {
   "cell_type": "code",
   "execution_count": null,
   "metadata": {},
   "outputs": [],
   "source": [
    "# Find the outliers in a list even or odd outliers\n",
    "def find_outlier(lst):\n",
    "  mods = [n % 2 for n in lst]\n",
    "  return lst[mods.index(0)] if sum(mods[:3]) > 1 else lst[mods.index(1)]\n",
    "\n",
    "print(find_outlier([5, 31, 57, 45, 9, 17, 8, 37, 123, 67])) \n",
    "\n",
    "print(find_outlier([4, 30, 56, 44, 8, 16, 7, 36, 122, 66])) "
   ]
  },
  {
   "cell_type": "code",
   "execution_count": 56,
   "metadata": {},
   "outputs": [
    {
     "output_type": "execute_result",
     "data": {
      "text/plain": "[1, 2, 2]"
     },
     "metadata": {},
     "execution_count": 56
    }
   ],
   "source": [
    "# Array difference return the difference between two arrays\n",
    "a = [1,2,2]\n",
    "b = []\n",
    "def array_diff(a, b):\n",
    "    diff = []\n",
    "    for element in a:\n",
    "        if element not in b:\n",
    "            diff.append(element)\n",
    "    return diff\n",
    "       \n",
    "array_diff(a,b)"
   ]
  },
  {
   "cell_type": "code",
   "execution_count": null,
   "metadata": {},
   "outputs": [],
   "source": [
    "# counts vowels in a string\n",
    "def getCount(inputStr):\n",
    "    num_vowels = 0\n",
    "    vowels = ['a','e','i','o','u']\n",
    "    \n",
    "    for inputStr in vowels:\n",
    "      num_vowels += 1\n",
    "            \n",
    "    return num_vowels"
   ]
  }
 ]
}